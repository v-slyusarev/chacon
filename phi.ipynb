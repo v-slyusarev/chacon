{
 "cells": [
  {
   "cell_type": "code",
   "execution_count": 1,
   "metadata": {},
   "outputs": [],
   "source": [
    "PHI = {}\n",
    "\n",
    "p = 5"
   ]
  },
  {
   "cell_type": "code",
   "execution_count": 2,
   "metadata": {},
   "outputs": [],
   "source": [
    "from fractions import Fraction"
   ]
  },
  {
   "cell_type": "code",
   "execution_count": 32,
   "metadata": {},
   "outputs": [],
   "source": [
    "from copy import deepcopy\n",
    "\n",
    "\n",
    "def omega_0(x):\n",
    "    if (x >= 0 and x < p - 1):\n",
    "        return x\n",
    "    else:\n",
    "        return 0\n",
    "    \n",
    "omega = omega_0\n",
    "    \n",
    "    \n",
    "def z_p_func_template():\n",
    "    return {'blocks': []}\n",
    "\n",
    "def phi_by_omega():\n",
    "    phi = z_p_func_template()\n",
    "\n",
    "    for i in range(p-1):\n",
    "        phi['blocks'] += [(['z', i+1], omega(i))]\n",
    "\n",
    "    return phi\n",
    "\n",
    "\n",
    "\n",
    "def plus_one(y0):\n",
    "    Y = [y0]\n",
    "\n",
    "    k = 0\n",
    "    t = 1\n",
    "    explode = False\n",
    "    for digit in y0:\n",
    "        if digit == 'z' and t > 0:\n",
    "            explode = True\n",
    "            break       \n",
    "        t = 0 if (digit + t < p) else 1\n",
    "        if t == 0:\n",
    "            break\n",
    "        k += 1\n",
    "        \n",
    "    if explode:\n",
    "        y1 = deepcopy(y0)\n",
    "        y1.remove('z')\n",
    "        y2 = deepcopy(y0)\n",
    "        y2.insert(k, 0)\n",
    "        Y = [y1, y2]\n",
    "    \n",
    "    Z = []\n",
    "    for y in Y:\n",
    "        z = []\n",
    "        t = 1\n",
    "        for digit in y:\n",
    "            if t > 0:\n",
    "                digit2 = (digit + t) % p\n",
    "                t = 0 if (digit + t < p) else 1\n",
    "                z.append(digit2) \n",
    "            else:\n",
    "                z.append(digit)\n",
    "        Z.append(z)\n",
    "    \n",
    "    return Z \n",
    "        \n",
    "\n",
    "def plus_one_to_block(block):\n",
    "    a = plus_one(block[0])\n",
    "    b = []\n",
    "    for s in a:\n",
    "        b.append((s, block[1]))\n",
    "    return b\n",
    "\n",
    "\n",
    "def shift(f):\n",
    "    f2 = deepcopy(f)\n",
    "    f2['blocks'] = []\n",
    "    for block in f['blocks']:\n",
    "        b = plus_one_to_block(block)\n",
    "        f2['blocks'] += b        \n",
    "    return f2\n",
    "        \n",
    "\n",
    "def generate_phi_m(m_max):\n",
    "    for m in range(1, m_max + 1):\n",
    "        if m in PHI:\n",
    "            continue\n",
    "        if (m == 1):\n",
    "            PHI[1] = phi_by_omega()\n",
    "            return\n",
    "        PHI[m] = add(PHI[1], shift(PHI[1]))\n",
    "        \n",
    "        \n",
    "def prob(s):\n",
    "    pr = 1\n",
    "    for digit in s:\n",
    "        pr *= (Fraction(p, p - 1) if digit == 'z' else Fraction(1, p))\n",
    "    return pr\n",
    "\n",
    "    \n",
    "def integrate(f):\n",
    "    integral = 0\n",
    "    for block in f['blocks']:\n",
    "        integral += prob(block[0]) * block[1]\n",
    "    return integral\n",
    "\n",
    "\n",
    "def add(f1, f2):\n",
    "    f = deepcopy(f1)\n",
    "    f['blocks'] = []\n",
    "    for block1 in f1['blocks']:\n",
    "        for block2 in f2['blocks']:\n",
    "            a = intersect(block1[0], block2[0])\n",
    "            for s in a:\n",
    "                f['blocks'].append((s, block1[1] + block2[1]))\n",
    "    return f\n",
    "\n",
    "\n",
    "def simple_intersect(s1, s2):\n",
    "    assert ('z' not in s1 and 'z' not in s2), 'one of s1, s2 contains z'\n",
    "    # assert (len(s1) > 0 and len(s2) > 0), 'one of s1, s2 is empty'\n",
    "\n",
    "    n1 = len(s1)\n",
    "    n2 = len(s2)\n",
    "\n",
    "    if(n1 == 0):\n",
    "        return [s2]\n",
    "    \n",
    "    if (n2 == 0):\n",
    "        return [s1]\n",
    "    \n",
    "    if(n2 > n1):\n",
    "        s1, s2 = s2, s1\n",
    "        n1, n2 = n2, n1\n",
    "        \n",
    "    # now s1 is the longest\n",
    "    \n",
    "    s = []\n",
    "    for i in range(n2):\n",
    "        if(s1[i] != s2[i]):\n",
    "            return []\n",
    "    return [s1]\n",
    "\n",
    "\n",
    "def intersect1(seq_with_z, usual_seq, z_index):\n",
    "    seq_before_z = seq_with_z[: z_index]\n",
    "    seq_after_z = seq_with_z[z_index + 1: ]\n",
    "    \n",
    "    s = simple_intersect(seq_before_z, usual_seq)\n",
    "    \n",
    "    if(len(s) == 0):\n",
    "        return []\n",
    "    \n",
    "    if(len(usual_seq) <= z_index):\n",
    "        return [seq_with_z]\n",
    "    \n",
    "    t = seq_after_z[0]\n",
    "    k = 0\n",
    "    res = []\n",
    "\n",
    "    \n",
    "    for j in range(z_index, len(usual_seq)):\n",
    "        if(usual_seq[j] != 0):\n",
    "            if(usual_seq[z_index] == t):\n",
    "                return [usual_seq]\n",
    "            else:\n",
    "                return []\n",
    "        else:\n",
    "            pass\n",
    "        \n",
    "    return [usual_seq + seq_after_z]\n",
    "    \n",
    "    \n",
    "def intersect2(s1, s2, k1, k2):\n",
    "    if(k1 > k2):\n",
    "        s1, s2, k1, k2 = s2, s1, k2, s1\n",
    "    \n",
    "    n1 = len(s1)\n",
    "    n2 = len(s2)\n",
    "    \n",
    "    # s1 has 'z' in earlier position\n",
    "    \n",
    "    a = [] \n",
    "    s1_before_z = s1[: k1]\n",
    "    zeros = []\n",
    "    s1_after_z = s1[k1 + 1: ]\n",
    "    \n",
    "    for n_zeros in range(k2 - k1):\n",
    "        a += intersect1(usual_seq=(s1_before_z + zeros + s1_after_z), seq_with_z=s2, z_index=k2)\n",
    "        zeros += [0]\n",
    "        \n",
    "    if(s1[k1 + 1] == s2[k2 + 1]):\n",
    "        if(s1[: k1] + zeros == s2[: k2]):\n",
    "            a += [s1]\n",
    "\n",
    "    return a\n",
    "    \n",
    "def intersect(s1, s2):\n",
    "    k1 = -1\n",
    "    k2 = -1    \n",
    "    \n",
    "    for i in range(len(s1)):\n",
    "        if (s1[i] == 'z'):\n",
    "            k1 = i\n",
    "            \n",
    "    for i in range(len(s2)):\n",
    "        if (s2[i] == 'z'):\n",
    "            k2 = i      \n",
    "    \n",
    "    if (k1 == -1 and k2 == -1):\n",
    "        return simple_intersect(s1, s2)\n",
    "    \n",
    "    if (k1 == -1 and k2 != -1):\n",
    "        return intersect1(seq_with_z=s2, usual_seq=s1, z_index=k2)\n",
    "    \n",
    "    if (k1 != -1 and k2 == -1):\n",
    "        return intersect1(seq_with_z=s1, usual_seq=s2, z_index=k1)\n",
    "    \n",
    "    if (k1 != -1 and k2 != -1):\n",
    "        return intersect2(s1, s2, k1, k2)"
   ]
  },
  {
   "cell_type": "code",
   "execution_count": 26,
   "metadata": {},
   "outputs": [],
   "source": [
    "def k_fold_shift(f, k):\n",
    "    if k <= 0:\n",
    "        return f\n",
    "    return shift(f) if k == 1 else shift(k_fold_shift(f, k-1))"
   ]
  },
  {
   "cell_type": "code",
   "execution_count": 3,
   "metadata": {},
   "outputs": [],
   "source": [
    "generate_phi_m(1)"
   ]
  },
  {
   "cell_type": "code",
   "execution_count": 4,
   "metadata": {},
   "outputs": [
    {
     "name": "stdout",
     "output_type": "stream",
     "text": [
      "{1: {'blocks': [(['z', 1], 0), (['z', 2], 1), (['z', 3], 2), (['z', 4], 3)]}}\n"
     ]
    }
   ],
   "source": [
    "print(PHI)"
   ]
  },
  {
   "cell_type": "code",
   "execution_count": 19,
   "metadata": {},
   "outputs": [
    {
     "data": {
      "text/plain": [
       "[(['z', 1], 0), (['z', 2], 1), (['z', 3], 2), (['z', 4], 3)]"
      ]
     },
     "execution_count": 19,
     "metadata": {},
     "output_type": "execute_result"
    }
   ],
   "source": [
    "PHI[1]['blocks']"
   ]
  },
  {
   "cell_type": "code",
   "execution_count": 20,
   "metadata": {},
   "outputs": [
    {
     "data": {
      "text/plain": [
       "[([2], 0),\n",
       " ([1, 'z', 1], 0),\n",
       " ([3], 1),\n",
       " ([1, 'z', 2], 1),\n",
       " ([4], 2),\n",
       " ([1, 'z', 3], 2),\n",
       " ([0], 3),\n",
       " ([1, 'z', 4], 3)]"
      ]
     },
     "execution_count": 20,
     "metadata": {},
     "output_type": "execute_result"
    }
   ],
   "source": [
    "shift(PHI[1])['blocks']"
   ]
  },
  {
   "cell_type": "code",
   "execution_count": 21,
   "metadata": {},
   "outputs": [
    {
     "data": {
      "text/plain": [
       "[([3], 0),\n",
       " ([2, 'z', 1], 0),\n",
       " ([4], 1),\n",
       " ([2, 'z', 2], 1),\n",
       " ([0], 2),\n",
       " ([2, 'z', 3], 2),\n",
       " ([1], 3),\n",
       " ([2, 'z', 4], 3)]"
      ]
     },
     "execution_count": 21,
     "metadata": {},
     "output_type": "execute_result"
    }
   ],
   "source": [
    "shift(shift(PHI[1]))['blocks']"
   ]
  },
  {
   "cell_type": "code",
   "execution_count": 22,
   "metadata": {},
   "outputs": [
    {
     "data": {
      "text/plain": [
       "[([4], 0),\n",
       " ([3, 'z', 1], 0),\n",
       " ([0], 1),\n",
       " ([3, 'z', 2], 1),\n",
       " ([1], 2),\n",
       " ([3, 'z', 3], 2),\n",
       " ([2], 3),\n",
       " ([3, 'z', 4], 3)]"
      ]
     },
     "execution_count": 22,
     "metadata": {},
     "output_type": "execute_result"
    }
   ],
   "source": [
    "shift(shift(shift(PHI[1])))['blocks']"
   ]
  },
  {
   "cell_type": "code",
   "execution_count": 24,
   "metadata": {},
   "outputs": [
    {
     "data": {
      "text/plain": [
       "{'blocks': [([1], 0),\n",
       "  ([0, 2], 0),\n",
       "  ([0, 1, 'z', 1], 0),\n",
       "  ([2], 1),\n",
       "  ([0, 3], 1),\n",
       "  ([0, 1, 'z', 2], 1),\n",
       "  ([3], 2),\n",
       "  ([0, 4], 2),\n",
       "  ([0, 1, 'z', 3], 2),\n",
       "  ([4], 3),\n",
       "  ([0, 0], 3),\n",
       "  ([0, 1, 'z', 4], 3)]}"
      ]
     },
     "execution_count": 24,
     "metadata": {},
     "output_type": "execute_result"
    }
   ],
   "source": [
    "k_fold_shift(PHI[1], 5)"
   ]
  },
  {
   "cell_type": "code",
   "execution_count": 28,
   "metadata": {},
   "outputs": [
    {
     "ename": "TypeError",
     "evalue": "can't multiply sequence by non-int of type 'float'",
     "output_type": "error",
     "traceback": [
      "\u001b[0;31m---------------------------------------------------------------------------\u001b[0m",
      "\u001b[0;31mTypeError\u001b[0m                                 Traceback (most recent call last)",
      "\u001b[0;32m<ipython-input-28-017071b766f9>\u001b[0m in \u001b[0;36m<module>\u001b[0;34m()\u001b[0m\n\u001b[0;32m----> 1\u001b[0;31m \u001b[0mintegrate\u001b[0m\u001b[0;34m(\u001b[0m\u001b[0mPHI\u001b[0m\u001b[0;34m[\u001b[0m\u001b[0;36m1\u001b[0m\u001b[0;34m]\u001b[0m\u001b[0;34m)\u001b[0m\u001b[0;34m\u001b[0m\u001b[0m\n\u001b[0m",
      "\u001b[0;32m<ipython-input-27-4b3af47c947d>\u001b[0m in \u001b[0;36mintegrate\u001b[0;34m(f)\u001b[0m\n\u001b[1;32m     96\u001b[0m     \u001b[0mintegral\u001b[0m \u001b[0;34m=\u001b[0m \u001b[0;36m0\u001b[0m\u001b[0;34m\u001b[0m\u001b[0m\n\u001b[1;32m     97\u001b[0m     \u001b[0;32mfor\u001b[0m \u001b[0mblock\u001b[0m \u001b[0;32min\u001b[0m \u001b[0mf\u001b[0m\u001b[0;34m[\u001b[0m\u001b[0;34m'blocks'\u001b[0m\u001b[0;34m]\u001b[0m\u001b[0;34m:\u001b[0m\u001b[0;34m\u001b[0m\u001b[0m\n\u001b[0;32m---> 98\u001b[0;31m         \u001b[0mintegral\u001b[0m \u001b[0;34m+=\u001b[0m \u001b[0mprob\u001b[0m\u001b[0;34m(\u001b[0m\u001b[0mblock\u001b[0m\u001b[0;34m[\u001b[0m\u001b[0;36m0\u001b[0m\u001b[0;34m]\u001b[0m\u001b[0;34m)\u001b[0m \u001b[0;34m*\u001b[0m \u001b[0mblock\u001b[0m\u001b[0;34m[\u001b[0m\u001b[0;36m0\u001b[0m\u001b[0;34m]\u001b[0m\u001b[0;34m\u001b[0m\u001b[0m\n\u001b[0m\u001b[1;32m     99\u001b[0m     \u001b[0;32mreturn\u001b[0m \u001b[0mintegral\u001b[0m\u001b[0;34m\u001b[0m\u001b[0m\n",
      "\u001b[0;31mTypeError\u001b[0m: can't multiply sequence by non-int of type 'float'"
     ]
    }
   ],
   "source": [
    "integrate(PHI[1])"
   ]
  },
  {
   "cell_type": "code",
   "execution_count": 33,
   "metadata": {},
   "outputs": [
    {
     "data": {
      "text/plain": [
       "[1.5,\n",
       " 1.5,\n",
       " 1.5,\n",
       " 1.5,\n",
       " 1.5000000000000002,\n",
       " 1.5000000000000002,\n",
       " 1.5000000000000002,\n",
       " 1.5000000000000002,\n",
       " 1.5000000000000002]"
      ]
     },
     "execution_count": 33,
     "metadata": {},
     "output_type": "execute_result"
    }
   ],
   "source": [
    "[integrate(k_fold_shift(PHI[1], x)) for x in range(1,10)]"
   ]
  },
  {
   "cell_type": "code",
   "execution_count": 4,
   "metadata": {},
   "outputs": [
    {
     "name": "stdout",
     "output_type": "stream",
     "text": [
      "100/99\n"
     ]
    }
   ],
   "source": []
  },
  {
   "cell_type": "code",
   "execution_count": 2,
   "metadata": {},
   "outputs": [
    {
     "data": {
      "text/plain": [
       "[1, 2, 3, [4, 5]]"
      ]
     },
     "execution_count": 2,
     "metadata": {},
     "output_type": "execute_result"
    }
   ],
   "source": [
    "a = [1, 2, 3]\n",
    "a.append([4, 5])\n",
    "a"
   ]
  },
  {
   "cell_type": "code",
   "execution_count": 3,
   "metadata": {},
   "outputs": [
    {
     "data": {
      "text/plain": [
       "True"
      ]
     },
     "execution_count": 3,
     "metadata": {},
     "output_type": "execute_result"
    }
   ],
   "source": [
    "[1,2]==[1,2]"
   ]
  },
  {
   "cell_type": "code",
   "execution_count": null,
   "metadata": {},
   "outputs": [],
   "source": []
  }
 ],
 "metadata": {
  "kernelspec": {
   "display_name": "Python 3",
   "language": "python",
   "name": "python3"
  },
  "language_info": {
   "codemirror_mode": {
    "name": "ipython",
    "version": 3
   },
   "file_extension": ".py",
   "mimetype": "text/x-python",
   "name": "python",
   "nbconvert_exporter": "python",
   "pygments_lexer": "ipython3",
   "version": "3.5.2"
  }
 },
 "nbformat": 4,
 "nbformat_minor": 2
}
