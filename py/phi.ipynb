{
 "cells": [
  {
   "cell_type": "code",
   "execution_count": 1,
   "metadata": {},
   "outputs": [],
   "source": [
    "from phi import *\n",
    "from intersect import *\n",
    "from integrate import *"
   ]
  },
  {
   "cell_type": "code",
   "execution_count": null,
   "metadata": {},
   "outputs": [],
   "source": []
  },
  {
   "cell_type": "code",
   "execution_count": 2,
   "metadata": {},
   "outputs": [],
   "source": [
    "def k_fold_shift(f, k):\n",
    "    if k <= 0:\n",
    "        return f\n",
    "    return shift(f) if k == 1 else shift(k_fold_shift(f, k-1))"
   ]
  },
  {
   "cell_type": "code",
   "execution_count": 3,
   "metadata": {},
   "outputs": [],
   "source": [
    "PHI = {}\n",
    "\n",
    "p = 3"
   ]
  },
  {
   "cell_type": "code",
   "execution_count": 4,
   "metadata": {},
   "outputs": [],
   "source": [
    "generate_phi_m(PHI, 2, p=3)"
   ]
  },
  {
   "cell_type": "code",
   "execution_count": 7,
   "metadata": {},
   "outputs": [
    {
     "name": "stdout",
     "output_type": "stream",
     "text": [
      "1 :  {'blocks': [(['z', 1], 0), (['z', 2], 1)]} \n",
      " x/2 + 1/2 \n",
      "\n",
      "2 :  {'blocks': [([1, 'z', 1], 0), (['z', 1], 1), ([1, 'z', 2], 1), ([2], 1), (['z', 2], 2)]} \n",
      " x**2/2 + x + 1/6 \n",
      "\n"
     ]
    }
   ],
   "source": [
    "for key in AAA:\n",
    "    print(key, ': ', AAA[key], '\\n', integrate(AAA[key], p), '\\n')"
   ]
  },
  {
   "cell_type": "code",
   "execution_count": null,
   "metadata": {},
   "outputs": [],
   "source": []
  }
 ],
 "metadata": {
  "kernelspec": {
   "display_name": "Python 3",
   "language": "python",
   "name": "python3"
  },
  "language_info": {
   "codemirror_mode": {
    "name": "ipython",
    "version": 3
   },
   "file_extension": ".py",
   "mimetype": "text/x-python",
   "name": "python",
   "nbconvert_exporter": "python",
   "pygments_lexer": "ipython3",
   "version": "3.5.2"
  }
 },
 "nbformat": 4,
 "nbformat_minor": 2
}
